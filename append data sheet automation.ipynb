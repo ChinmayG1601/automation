{
 "cells": [
  {
   "cell_type": "code",
   "execution_count": 1,
   "id": "2ab039c2-5105-4088-9a5f-5db9495c7a0a",
   "metadata": {},
   "outputs": [],
   "source": [
    "# pip install google-auth"
   ]
  },
  {
   "cell_type": "code",
   "execution_count": 2,
   "id": "07aba99c-1834-4003-bf6a-e1c33e905c74",
   "metadata": {},
   "outputs": [],
   "source": [
    "# pip install google-api-python-client google-auth-httplib2 google-auth-oauthlib"
   ]
  },
  {
   "cell_type": "code",
   "execution_count": 3,
   "id": "55b96336-15b3-4b9d-9e88-7ae96bb34c4e",
   "metadata": {},
   "outputs": [],
   "source": [
    "# import lib\n",
    "\n",
    "import os\n",
    "\n",
    "from google.auth.transport.requests import Request\n",
    "from google.oauth2.credentials import Credentials\n",
    "from google_auth_oauthlib.flow import InstalledAppFlow\n",
    "from googleapiclient.discovery import build\n",
    "from googleapiclient.errors import HttpError"
   ]
  },
  {
   "cell_type": "code",
   "execution_count": 12,
   "id": "b3a12ae0-2eb3-4f7b-a635-7c1814808708",
   "metadata": {},
   "outputs": [],
   "source": [
    "import csv"
   ]
  },
  {
   "cell_type": "code",
   "execution_count": 4,
   "id": "f85d2daa-72d2-4252-ab2b-159800156967",
   "metadata": {},
   "outputs": [],
   "source": [
    "# import google\n",
    "# google.__path__.append('lib/google')"
   ]
  },
  {
   "cell_type": "code",
   "execution_count": 5,
   "id": "b7e8b221-1491-49b6-a51d-890644c1a8f6",
   "metadata": {},
   "outputs": [],
   "source": [
    "SCOPES = [\"https://www.googleapis.com/auth/spreadsheets\"]"
   ]
  },
  {
   "cell_type": "code",
   "execution_count": 6,
   "id": "608f7eb4-a529-49f6-9f4a-c64ea5692c2a",
   "metadata": {},
   "outputs": [],
   "source": [
    "SPREADSHEET_ID = \"1P8oONrbhDqPdj7ubLUWCmfXJd6eOexO5FzWWgOvzIlE\""
   ]
  },
  {
   "cell_type": "code",
   "execution_count": 15,
   "id": "83e92afa-5e61-4fa3-b6df-7c40d2a37caf",
   "metadata": {},
   "outputs": [],
   "source": [
    "RANGE_NAME = 'Sheet1!A1'  # Define the range where you want to append the data\n",
    "NUM_COLUMNS = 25  # Specify the number of columns"
   ]
  },
  {
   "cell_type": "code",
   "execution_count": 16,
   "id": "b5dd0235-9acb-4f64-85a7-160d71f737ad",
   "metadata": {},
   "outputs": [],
   "source": [
    "def main():\n",
    "    creds = None\n",
    "    if os.path.exists(\"token.json\"):\n",
    "        creds = Credentials.from_authorized_user_file(\"token.json\",SCOPES)\n",
    "    if not creds or not creds.valid:\n",
    "        if creds and creds.expired and creds.refresh_token:\n",
    "            creds.refresh(Request())\n",
    "        else:\n",
    "            flow = InstalledAppFlow.from_client_secrets_file(\n",
    "                \"credentials.json\", SCOPES)\n",
    "            creds = flow.run_local_server(port=0)\n",
    "        with open(\"tocken.json\",\"w\") as token:\n",
    "            token.write(creds.to_json())\n",
    "    try:\n",
    "        service = build(\"sheets\",\"v4\",credentials=creds)\n",
    "        sheet = service.spreadsheets()\n",
    "        # Read data from CSV\n",
    "        csv_file = 'yearwise.csv'  # Replace with your CSV file path\n",
    "        csv_data = []\n",
    "        \n",
    "        with open(csv_file, newline='') as file:\n",
    "            reader = csv.reader(file)\n",
    "            for row in reader:\n",
    "                # Ensure the row has exactly NUM_COLUMNS elements (fill with empty strings if needed)\n",
    "                csv_data.append(row[:NUM_COLUMNS] + [''] * (NUM_COLUMNS - len(row)))\n",
    "\n",
    "        # Append the data to Google Sheets\n",
    "        request = sheet.values().append(\n",
    "            spreadsheetId=SPREADSHEET_ID,\n",
    "            range=RANGE_NAME,\n",
    "            valueInputOption='RAW',\n",
    "            body={'values': csv_data}\n",
    "        ).execute()\n",
    "\n",
    "        print(f\"{request.get('updates').get('updatedCells')} cells appended.\")\n",
    "    except HttpError as error:\n",
    "        print(error)\n",
    "\n",
    "        "
   ]
  },
  {
   "cell_type": "code",
   "execution_count": 17,
   "id": "75a71187-e57a-46d5-ae81-964a232397a6",
   "metadata": {},
   "outputs": [
    {
     "name": "stdout",
     "output_type": "stream",
     "text": [
      "Please visit this URL to authorize this application: https://accounts.google.com/o/oauth2/auth?response_type=code&client_id=446647600955-tgu1a5ki873rmpv35jtcemu8i367c4pf.apps.googleusercontent.com&redirect_uri=http%3A%2F%2Flocalhost%3A58537%2F&scope=https%3A%2F%2Fwww.googleapis.com%2Fauth%2Fspreadsheets&state=trNMDyJ1ldQFuwxksrIJc82F71twpV&access_type=offline\n",
      "400 cells appended.\n"
     ]
    }
   ],
   "source": [
    "if __name__ == \"__main__\":\n",
    "    main()"
   ]
  },
  {
   "cell_type": "code",
   "execution_count": null,
   "id": "7505de09-5b5b-4ec7-b5a9-7befe79717eb",
   "metadata": {},
   "outputs": [],
   "source": []
  }
 ],
 "metadata": {
  "kernelspec": {
   "display_name": "Python 3 (ipykernel)",
   "language": "python",
   "name": "python3"
  },
  "language_info": {
   "codemirror_mode": {
    "name": "ipython",
    "version": 3
   },
   "file_extension": ".py",
   "mimetype": "text/x-python",
   "name": "python",
   "nbconvert_exporter": "python",
   "pygments_lexer": "ipython3",
   "version": "3.11.7"
  }
 },
 "nbformat": 4,
 "nbformat_minor": 5
}
