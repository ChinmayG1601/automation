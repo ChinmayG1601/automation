{
 "cells": [
  {
   "cell_type": "code",
   "execution_count": 1,
   "id": "d039bc6d-9c8c-4079-889b-3cf5bf8576e7",
   "metadata": {},
   "outputs": [],
   "source": [
    "import gspread\n",
    "import os\n",
    "from oauth2client.service_account import ServiceAccountCredentials\n",
    "import pandas as pd\n",
    "import numpy as np\n",
    "from datetime import datetime\n",
    "import openpyxl\n",
    "from openpyxl import load_workbook\n",
    "\n",
    "import csv\n",
    "from google.auth.transport.requests import Request\n",
    "from google.oauth2.credentials import Credentials\n",
    "from google_auth_oauthlib.flow import InstalledAppFlow\n",
    "from googleapiclient.discovery import build\n",
    "from googleapiclient.errors import HttpError"
   ]
  },
  {
   "cell_type": "code",
   "execution_count": 2,
   "id": "df1be6da-a1dd-4b35-9354-619b149d4f45",
   "metadata": {},
   "outputs": [],
   "source": [
    "df = pd.read_csv('data.csv')"
   ]
  },
  {
   "cell_type": "code",
   "execution_count": 3,
   "id": "13b61b65-cdbb-4ce1-bb3a-da7c070fcbec",
   "metadata": {},
   "outputs": [
    {
     "data": {
      "text/plain": [
       "Index(['ShipmentId', 'TierType', 'Type', 'ReverseShipmentId',\n",
       "       'ForwardReverseType', 'TotalPrice', 'DeliveryPincode', 'Status',\n",
       "       'DeliveryHub', 'CurrentHub', 'CustomerPromiseDate',\n",
       "       'LogisticsPromiseDate', 'LatestUpdateTime', 'FirstReceiveTime',\n",
       "       'FirstReceiveHub', 'LastReceiveTime', 'FirstAssignedHub',\n",
       "       'NumberOfAttempts', 'CsNotes', 'HubNotes', 'OnHoldByOpsReason',\n",
       "       'OnHoldByOpsDate', 'BagId', 'BagStatus', 'ConsignmentId', 'OrderId',\n",
       "       'ItemDescription'],\n",
       "      dtype='object')"
      ]
     },
     "execution_count": 3,
     "metadata": {},
     "output_type": "execute_result"
    }
   ],
   "source": [
    "df.columns"
   ]
  },
  {
   "cell_type": "code",
   "execution_count": 4,
   "id": "ac4b1da7-c61b-4037-b584-6435819b7996",
   "metadata": {},
   "outputs": [],
   "source": [
    "status = pd.pivot_table(df, index='Status',values='ShipmentId', aggfunc='count')"
   ]
  },
  {
   "cell_type": "code",
   "execution_count": 5,
   "id": "5ecffbb4-0fe2-4fa5-bc0b-c24a3e3a0e1c",
   "metadata": {
    "scrolled": true
   },
   "outputs": [
    {
     "data": {
      "text/html": [
       "<div>\n",
       "<style scoped>\n",
       "    .dataframe tbody tr th:only-of-type {\n",
       "        vertical-align: middle;\n",
       "    }\n",
       "\n",
       "    .dataframe tbody tr th {\n",
       "        vertical-align: top;\n",
       "    }\n",
       "\n",
       "    .dataframe thead th {\n",
       "        text-align: right;\n",
       "    }\n",
       "</style>\n",
       "<table border=\"1\" class=\"dataframe\">\n",
       "  <thead>\n",
       "    <tr style=\"text-align: right;\">\n",
       "      <th></th>\n",
       "      <th>ShipmentId</th>\n",
       "    </tr>\n",
       "    <tr>\n",
       "      <th>Status</th>\n",
       "      <th></th>\n",
       "    </tr>\n",
       "  </thead>\n",
       "  <tbody>\n",
       "    <tr>\n",
       "      <th>Delivered</th>\n",
       "      <td>298</td>\n",
       "    </tr>\n",
       "    <tr>\n",
       "      <th>Error</th>\n",
       "      <td>3</td>\n",
       "    </tr>\n",
       "    <tr>\n",
       "      <th>Expected</th>\n",
       "      <td>380</td>\n",
       "    </tr>\n",
       "    <tr>\n",
       "      <th>Out_For_Delivery</th>\n",
       "      <td>4</td>\n",
       "    </tr>\n",
       "    <tr>\n",
       "      <th>Received_By_Ekl</th>\n",
       "      <td>3</td>\n",
       "    </tr>\n",
       "    <tr>\n",
       "      <th>Undelivered_HeavyLoad</th>\n",
       "      <td>1</td>\n",
       "    </tr>\n",
       "    <tr>\n",
       "      <th>Undelivered_Incomplete_Address</th>\n",
       "      <td>1</td>\n",
       "    </tr>\n",
       "    <tr>\n",
       "      <th>Undelivered_No_Response</th>\n",
       "      <td>2</td>\n",
       "    </tr>\n",
       "    <tr>\n",
       "      <th>Undelivered_NonServiceablePincode</th>\n",
       "      <td>3</td>\n",
       "    </tr>\n",
       "    <tr>\n",
       "      <th>Undelivered_Not_Attended</th>\n",
       "      <td>44</td>\n",
       "    </tr>\n",
       "    <tr>\n",
       "      <th>Undelivered_Order_Rejected_By_Customer</th>\n",
       "      <td>2</td>\n",
       "    </tr>\n",
       "    <tr>\n",
       "      <th>Undelivered_Request_For_Reschedule</th>\n",
       "      <td>3</td>\n",
       "    </tr>\n",
       "    <tr>\n",
       "      <th>Undelivered_SameStateMisroute</th>\n",
       "      <td>1</td>\n",
       "    </tr>\n",
       "    <tr>\n",
       "      <th>Untraceable</th>\n",
       "      <td>4</td>\n",
       "    </tr>\n",
       "  </tbody>\n",
       "</table>\n",
       "</div>"
      ],
      "text/plain": [
       "                                        ShipmentId\n",
       "Status                                            \n",
       "Delivered                                      298\n",
       "Error                                            3\n",
       "Expected                                       380\n",
       "Out_For_Delivery                                 4\n",
       "Received_By_Ekl                                  3\n",
       "Undelivered_HeavyLoad                            1\n",
       "Undelivered_Incomplete_Address                   1\n",
       "Undelivered_No_Response                          2\n",
       "Undelivered_NonServiceablePincode                3\n",
       "Undelivered_Not_Attended                        44\n",
       "Undelivered_Order_Rejected_By_Customer           2\n",
       "Undelivered_Request_For_Reschedule               3\n",
       "Undelivered_SameStateMisroute                    1\n",
       "Untraceable                                      4"
      ]
     },
     "execution_count": 5,
     "metadata": {},
     "output_type": "execute_result"
    }
   ],
   "source": [
    "status"
   ]
  },
  {
   "cell_type": "code",
   "execution_count": 6,
   "id": "8db576ba-b750-4365-85a6-96ca1ef3e0b9",
   "metadata": {},
   "outputs": [],
   "source": [
    "status['per_ShipmentId'] = ((status.div(status['ShipmentId'].sum(),axis=1))*100).round(2)"
   ]
  },
  {
   "cell_type": "code",
   "execution_count": 7,
   "id": "a159d4b7-f77f-4c84-b1b6-bc32b0d6ac38",
   "metadata": {},
   "outputs": [
    {
     "data": {
      "text/html": [
       "<div>\n",
       "<style scoped>\n",
       "    .dataframe tbody tr th:only-of-type {\n",
       "        vertical-align: middle;\n",
       "    }\n",
       "\n",
       "    .dataframe tbody tr th {\n",
       "        vertical-align: top;\n",
       "    }\n",
       "\n",
       "    .dataframe thead th {\n",
       "        text-align: right;\n",
       "    }\n",
       "</style>\n",
       "<table border=\"1\" class=\"dataframe\">\n",
       "  <thead>\n",
       "    <tr style=\"text-align: right;\">\n",
       "      <th></th>\n",
       "      <th>ShipmentId</th>\n",
       "      <th>per_ShipmentId</th>\n",
       "    </tr>\n",
       "    <tr>\n",
       "      <th>Status</th>\n",
       "      <th></th>\n",
       "      <th></th>\n",
       "    </tr>\n",
       "  </thead>\n",
       "  <tbody>\n",
       "    <tr>\n",
       "      <th>Delivered</th>\n",
       "      <td>298</td>\n",
       "      <td>39.79</td>\n",
       "    </tr>\n",
       "    <tr>\n",
       "      <th>Error</th>\n",
       "      <td>3</td>\n",
       "      <td>0.40</td>\n",
       "    </tr>\n",
       "    <tr>\n",
       "      <th>Expected</th>\n",
       "      <td>380</td>\n",
       "      <td>50.73</td>\n",
       "    </tr>\n",
       "    <tr>\n",
       "      <th>Out_For_Delivery</th>\n",
       "      <td>4</td>\n",
       "      <td>0.53</td>\n",
       "    </tr>\n",
       "    <tr>\n",
       "      <th>Received_By_Ekl</th>\n",
       "      <td>3</td>\n",
       "      <td>0.40</td>\n",
       "    </tr>\n",
       "    <tr>\n",
       "      <th>Undelivered_HeavyLoad</th>\n",
       "      <td>1</td>\n",
       "      <td>0.13</td>\n",
       "    </tr>\n",
       "    <tr>\n",
       "      <th>Undelivered_Incomplete_Address</th>\n",
       "      <td>1</td>\n",
       "      <td>0.13</td>\n",
       "    </tr>\n",
       "    <tr>\n",
       "      <th>Undelivered_No_Response</th>\n",
       "      <td>2</td>\n",
       "      <td>0.27</td>\n",
       "    </tr>\n",
       "    <tr>\n",
       "      <th>Undelivered_NonServiceablePincode</th>\n",
       "      <td>3</td>\n",
       "      <td>0.40</td>\n",
       "    </tr>\n",
       "    <tr>\n",
       "      <th>Undelivered_Not_Attended</th>\n",
       "      <td>44</td>\n",
       "      <td>5.87</td>\n",
       "    </tr>\n",
       "    <tr>\n",
       "      <th>Undelivered_Order_Rejected_By_Customer</th>\n",
       "      <td>2</td>\n",
       "      <td>0.27</td>\n",
       "    </tr>\n",
       "    <tr>\n",
       "      <th>Undelivered_Request_For_Reschedule</th>\n",
       "      <td>3</td>\n",
       "      <td>0.40</td>\n",
       "    </tr>\n",
       "    <tr>\n",
       "      <th>Undelivered_SameStateMisroute</th>\n",
       "      <td>1</td>\n",
       "      <td>0.13</td>\n",
       "    </tr>\n",
       "    <tr>\n",
       "      <th>Untraceable</th>\n",
       "      <td>4</td>\n",
       "      <td>0.53</td>\n",
       "    </tr>\n",
       "  </tbody>\n",
       "</table>\n",
       "</div>"
      ],
      "text/plain": [
       "                                        ShipmentId  per_ShipmentId\n",
       "Status                                                            \n",
       "Delivered                                      298           39.79\n",
       "Error                                            3            0.40\n",
       "Expected                                       380           50.73\n",
       "Out_For_Delivery                                 4            0.53\n",
       "Received_By_Ekl                                  3            0.40\n",
       "Undelivered_HeavyLoad                            1            0.13\n",
       "Undelivered_Incomplete_Address                   1            0.13\n",
       "Undelivered_No_Response                          2            0.27\n",
       "Undelivered_NonServiceablePincode                3            0.40\n",
       "Undelivered_Not_Attended                        44            5.87\n",
       "Undelivered_Order_Rejected_By_Customer           2            0.27\n",
       "Undelivered_Request_For_Reschedule               3            0.40\n",
       "Undelivered_SameStateMisroute                    1            0.13\n",
       "Untraceable                                      4            0.53"
      ]
     },
     "execution_count": 7,
     "metadata": {},
     "output_type": "execute_result"
    }
   ],
   "source": [
    "status"
   ]
  },
  {
   "cell_type": "code",
   "execution_count": 8,
   "id": "1dd690e5-e464-4170-8396-f864fba61143",
   "metadata": {},
   "outputs": [],
   "source": [
    "# status_table = pd.pivot_table(df, index='Status',values='ShipmentId', aggfunc='count',margins=True)"
   ]
  },
  {
   "cell_type": "code",
   "execution_count": 9,
   "id": "48b173eb-27e5-4ff0-abf1-f9ef7c1f9861",
   "metadata": {},
   "outputs": [],
   "source": [
    "# status_table"
   ]
  },
  {
   "cell_type": "code",
   "execution_count": 10,
   "id": "0e3e7aa8-b7e1-4f13-a068-08dff650dfe0",
   "metadata": {},
   "outputs": [],
   "source": [
    "type = pd.pivot_table(df, index=['Status','Type'],values='ShipmentId', aggfunc='count')"
   ]
  },
  {
   "cell_type": "code",
   "execution_count": 11,
   "id": "a5a7bf72-f01f-4777-9101-a6a4db5f18ef",
   "metadata": {},
   "outputs": [
    {
     "data": {
      "text/html": [
       "<div>\n",
       "<style scoped>\n",
       "    .dataframe tbody tr th:only-of-type {\n",
       "        vertical-align: middle;\n",
       "    }\n",
       "\n",
       "    .dataframe tbody tr th {\n",
       "        vertical-align: top;\n",
       "    }\n",
       "\n",
       "    .dataframe thead th {\n",
       "        text-align: right;\n",
       "    }\n",
       "</style>\n",
       "<table border=\"1\" class=\"dataframe\">\n",
       "  <thead>\n",
       "    <tr style=\"text-align: right;\">\n",
       "      <th></th>\n",
       "      <th></th>\n",
       "      <th>ShipmentId</th>\n",
       "    </tr>\n",
       "    <tr>\n",
       "      <th>Status</th>\n",
       "      <th>Type</th>\n",
       "      <th></th>\n",
       "    </tr>\n",
       "  </thead>\n",
       "  <tbody>\n",
       "    <tr>\n",
       "      <th rowspan=\"2\" valign=\"top\">Delivered</th>\n",
       "      <th>COD</th>\n",
       "      <td>153</td>\n",
       "    </tr>\n",
       "    <tr>\n",
       "      <th>PP</th>\n",
       "      <td>145</td>\n",
       "    </tr>\n",
       "    <tr>\n",
       "      <th rowspan=\"2\" valign=\"top\">Error</th>\n",
       "      <th>COD</th>\n",
       "      <td>2</td>\n",
       "    </tr>\n",
       "    <tr>\n",
       "      <th>PP</th>\n",
       "      <td>1</td>\n",
       "    </tr>\n",
       "    <tr>\n",
       "      <th rowspan=\"2\" valign=\"top\">Expected</th>\n",
       "      <th>COD</th>\n",
       "      <td>232</td>\n",
       "    </tr>\n",
       "    <tr>\n",
       "      <th>PP</th>\n",
       "      <td>148</td>\n",
       "    </tr>\n",
       "    <tr>\n",
       "      <th rowspan=\"2\" valign=\"top\">Out_For_Delivery</th>\n",
       "      <th>COD</th>\n",
       "      <td>3</td>\n",
       "    </tr>\n",
       "    <tr>\n",
       "      <th>PP</th>\n",
       "      <td>1</td>\n",
       "    </tr>\n",
       "    <tr>\n",
       "      <th rowspan=\"2\" valign=\"top\">Received_By_Ekl</th>\n",
       "      <th>COD</th>\n",
       "      <td>2</td>\n",
       "    </tr>\n",
       "    <tr>\n",
       "      <th>PP</th>\n",
       "      <td>1</td>\n",
       "    </tr>\n",
       "    <tr>\n",
       "      <th>Undelivered_HeavyLoad</th>\n",
       "      <th>COD</th>\n",
       "      <td>1</td>\n",
       "    </tr>\n",
       "    <tr>\n",
       "      <th>Undelivered_Incomplete_Address</th>\n",
       "      <th>COD</th>\n",
       "      <td>1</td>\n",
       "    </tr>\n",
       "    <tr>\n",
       "      <th rowspan=\"2\" valign=\"top\">Undelivered_No_Response</th>\n",
       "      <th>COD</th>\n",
       "      <td>1</td>\n",
       "    </tr>\n",
       "    <tr>\n",
       "      <th>PP</th>\n",
       "      <td>1</td>\n",
       "    </tr>\n",
       "    <tr>\n",
       "      <th rowspan=\"2\" valign=\"top\">Undelivered_NonServiceablePincode</th>\n",
       "      <th>COD</th>\n",
       "      <td>2</td>\n",
       "    </tr>\n",
       "    <tr>\n",
       "      <th>PP</th>\n",
       "      <td>1</td>\n",
       "    </tr>\n",
       "    <tr>\n",
       "      <th rowspan=\"2\" valign=\"top\">Undelivered_Not_Attended</th>\n",
       "      <th>COD</th>\n",
       "      <td>27</td>\n",
       "    </tr>\n",
       "    <tr>\n",
       "      <th>PP</th>\n",
       "      <td>17</td>\n",
       "    </tr>\n",
       "    <tr>\n",
       "      <th rowspan=\"2\" valign=\"top\">Undelivered_Order_Rejected_By_Customer</th>\n",
       "      <th>COD</th>\n",
       "      <td>1</td>\n",
       "    </tr>\n",
       "    <tr>\n",
       "      <th>PP</th>\n",
       "      <td>1</td>\n",
       "    </tr>\n",
       "    <tr>\n",
       "      <th>Undelivered_Request_For_Reschedule</th>\n",
       "      <th>PP</th>\n",
       "      <td>3</td>\n",
       "    </tr>\n",
       "    <tr>\n",
       "      <th>Undelivered_SameStateMisroute</th>\n",
       "      <th>COD</th>\n",
       "      <td>1</td>\n",
       "    </tr>\n",
       "    <tr>\n",
       "      <th rowspan=\"2\" valign=\"top\">Untraceable</th>\n",
       "      <th>COD</th>\n",
       "      <td>2</td>\n",
       "    </tr>\n",
       "    <tr>\n",
       "      <th>PP</th>\n",
       "      <td>2</td>\n",
       "    </tr>\n",
       "  </tbody>\n",
       "</table>\n",
       "</div>"
      ],
      "text/plain": [
       "                                             ShipmentId\n",
       "Status                                 Type            \n",
       "Delivered                              COD          153\n",
       "                                       PP           145\n",
       "Error                                  COD            2\n",
       "                                       PP             1\n",
       "Expected                               COD          232\n",
       "                                       PP           148\n",
       "Out_For_Delivery                       COD            3\n",
       "                                       PP             1\n",
       "Received_By_Ekl                        COD            2\n",
       "                                       PP             1\n",
       "Undelivered_HeavyLoad                  COD            1\n",
       "Undelivered_Incomplete_Address         COD            1\n",
       "Undelivered_No_Response                COD            1\n",
       "                                       PP             1\n",
       "Undelivered_NonServiceablePincode      COD            2\n",
       "                                       PP             1\n",
       "Undelivered_Not_Attended               COD           27\n",
       "                                       PP            17\n",
       "Undelivered_Order_Rejected_By_Customer COD            1\n",
       "                                       PP             1\n",
       "Undelivered_Request_For_Reschedule     PP             3\n",
       "Undelivered_SameStateMisroute          COD            1\n",
       "Untraceable                            COD            2\n",
       "                                       PP             2"
      ]
     },
     "execution_count": 11,
     "metadata": {},
     "output_type": "execute_result"
    }
   ],
   "source": [
    "type"
   ]
  },
  {
   "cell_type": "code",
   "execution_count": 12,
   "id": "6e2ec33a-3e9e-4d21-b486-cf5a2903ef6e",
   "metadata": {},
   "outputs": [],
   "source": [
    "# current_hub"
   ]
  },
  {
   "cell_type": "markdown",
   "id": "12cf2776-61fe-46be-b98c-17bf823a4b3e",
   "metadata": {},
   "source": [
    "## save pivot in .xlsx"
   ]
  },
  {
   "cell_type": "code",
   "execution_count": 13,
   "id": "6f28200f-c046-468a-a286-9f5f6d66424e",
   "metadata": {},
   "outputs": [],
   "source": [
    "SHEET_NAME = \"Summary\""
   ]
  },
  {
   "cell_type": "code",
   "execution_count": 14,
   "id": "dfee46a9-b883-479a-8353-61d163d9b5de",
   "metadata": {},
   "outputs": [
    {
     "data": {
      "text/plain": [
       "<Worksheet \"Summary\">"
      ]
     },
     "execution_count": 14,
     "metadata": {},
     "output_type": "execute_result"
    }
   ],
   "source": [
    "# Load the workbook\n",
    "wb = openpyxl.Workbook()\n",
    "wb.save('pivot.xlsx')\n",
    "wb = openpyxl.load_workbook('pivot.xlsx')\n",
    "\n",
    "# Check if 'Sheet1' exists\n",
    "if SHEET_NAME in wb.sheetnames:\n",
    "    # Delete 'Sheet1'\n",
    "    del wb[SHEET_NAME]\n",
    "\n",
    "# Create a new 'Sheet1'\n",
    "wb.create_sheet(SHEET_NAME)"
   ]
  },
  {
   "cell_type": "code",
   "execution_count": 15,
   "id": "6fd26b03-373e-4738-8959-2c6dc7fb0bbb",
   "metadata": {},
   "outputs": [
    {
     "name": "stdout",
     "output_type": "stream",
     "text": [
      "Pivot tables saved successfully.\n"
     ]
    }
   ],
   "source": [
    "\n",
    "#save pivots in same sheet\n",
    "\n",
    "with pd.ExcelWriter('pivot.xlsx', engine='openpyxl') as writer:\n",
    "    status.to_excel(writer, sheet_name='Summary', startrow=0, startcol=0)  # Pivot 1 in top-left corner\n",
    "    type.to_excel(writer, sheet_name='Summary', startrow=0, startcol=5)  # Pivot 2 below Pivot 1\n",
    "\n",
    "print(\"Pivot tables saved successfully.\")"
   ]
  },
  {
   "cell_type": "code",
   "execution_count": 21,
   "id": "e201c44b-eee4-473f-83c6-0d42484ae532",
   "metadata": {},
   "outputs": [],
   "source": [
    "# pip install openpyxl\n",
    "# # "
   ]
  },
  {
   "cell_type": "code",
   "execution_count": 24,
   "id": "d257c8c7-0910-46c6-abac-86aa50709958",
   "metadata": {},
   "outputs": [],
   "source": [
    "# # Load the existing workbook or create one if it doesn't exist\n",
    "# wb = openpyxl.load_workbook('pivot.xlsx')\n",
    "\n",
    "# # Check if 'raw data' sheet exists; if so, remove itA\n",
    "# if 'raw data' in wb.sheetnames:\n",
    "#     del wb['raw data']\n",
    "\n",
    "# # Use ExcelWriter with openpyxl in append mode\n",
    "# with pd.ExcelWriter('pivot.xlsx', engine='openpyxl', mode='a') as writer:\n",
    "#     # Assign the workbook to the writer\n",
    "#     writer.book = wb\n",
    "#     writer.sheets = {ws.title: ws for ws in wb.worksheets}\n",
    "\n",
    "#     # Write new data to the 'raw data' sheet\n",
    "#     df.to_excel(writer, sheet_name='raw data', index=False)\n",
    "\n",
    "# # Save the updated workbook\n",
    "# wb.save('pivot.xlsx')\n",
    "\n",
    "# print(\"Data successfully updated in 'raw data' sheet.\")"
   ]
  },
  {
   "cell_type": "markdown",
   "id": "08045f24-0172-4ee4-8f4d-d0d84aa466c5",
   "metadata": {},
   "source": [
    "## G sheet"
   ]
  },
  {
   "cell_type": "code",
   "execution_count": null,
   "id": "0b7b3e15-6ef2-4fb3-82d9-020dfe373dd3",
   "metadata": {},
   "outputs": [],
   "source": [
    "# ## Google Sheets API Authentication\n",
    "def authenticate():\n",
    "    creds = None\n",
    "    # scope = [\"https://spreadsheets.google.com/feeds\", \"https://www.googleapis.com/auth/drive\"]\n",
    "    scope = [\"https://www.googleapis.com/auth/spreadsheets\", \n",
    "             \"https://www.googleapis.com/auth/drive\"]\n",
    "    # Check if token.json file exists for previously saved credentials\n",
    "    if os.path.exists(\"token.json\"):\n",
    "        creds = Credentials.from_authorized_user_file(\"token.json\", scope)\n",
    "    \n",
    "    # If no valid credentials, initiate login process\n",
    "    if not creds or not creds.valid:\n",
    "        if creds and creds.expired and creds.refresh_token:\n",
    "            creds.refresh(Request())\n",
    "        else:\n",
    "            flow = InstalledAppFlow.from_client_secrets_file(\"credentials.json\", scope)\n",
    "            creds = flow.run_local_server(port=0)\n",
    "        # Save the credentials for the next run\n",
    "        with open(\"token.json\", \"w\") as token:\n",
    "            token.write(creds.to_json())\n",
    "    client = gspread.authorize(creds)\n",
    "    \n",
    "    return client"
   ]
  },
  {
   "cell_type": "code",
   "execution_count": null,
   "id": "95f6a7a8-9a0a-4e7f-b8a4-74dc9e25c63a",
   "metadata": {},
   "outputs": [],
   "source": [
    "SPREADSHEET_ID = \"1ejhqkvQNklbPjh6XMGtboiJ7MCyiBSgab5SHHJm0Y7o\"\n",
    "SHEET_NAME = \"Summary\" "
   ]
  },
  {
   "cell_type": "code",
   "execution_count": null,
   "id": "5791be65-5489-49c4-a09b-59d7e250771e",
   "metadata": {},
   "outputs": [],
   "source": [
    "df = pd.read_excel('pivot.xlsx', sheet_name=SHEET_NAME)\n",
    "df.replace([np.nan], '', inplace=True)\n",
    "# Extract the data ranges\n",
    "table1 = df.iloc[:, 0:3]  # Range A0:C\n",
    "table2 = df.iloc[:, 5:8]  # Range F0:H\n",
    "table3 = df.iloc[:, 10:13]  # Range K0:M\n",
    "\n",
    "# Combine the extracted tables into a list of lists\n",
    "table1_data = table1.values.tolist()\n",
    "table2_data = table2.values.tolist()\n",
    "table3_data = table3.values.tolist()"
   ]
  },
  {
   "cell_type": "code",
   "execution_count": null,
   "id": "fb83a948-1592-4b0f-b9b2-73450c9aa1a4",
   "metadata": {},
   "outputs": [],
   "source": [
    "table1"
   ]
  },
  {
   "cell_type": "code",
   "execution_count": null,
   "id": "418e985c-a2e6-48ca-a374-6fefdf3ded1e",
   "metadata": {},
   "outputs": [],
   "source": [
    "client = authenticate()\n",
    "\n",
    "spreadsheet = client.open_by_key(SPREADSHEET_ID)\n",
    "worksheet = spreadsheet.worksheet('Summary')  # Ensure this sheet exists\n",
    "\n",
    "# Clear the existing ranges in Google Sheets\n",
    "worksheet.batch_clear(['A2:C', 'F2:H', 'K2:M'])  # Clear these ranges\n",
    "\n",
    "# Add new data to the respective ranges\n",
    "worksheet.update('A2', table1_data)  # Insert table 1 in range A0:C\n",
    "worksheet.update('F2', table2_data)  # Insert table 2 in range F0:H\n",
    "worksheet.update('K2', table3_data)  # Insert table 3 in range K0:M\n",
    "\n",
    "print(\"Data successfully updated to Google Sheets.\")"
   ]
  },
  {
   "cell_type": "code",
   "execution_count": null,
   "id": "ef71bb5f-7d22-4f6a-9ee8-e8e5a58b2cc5",
   "metadata": {},
   "outputs": [],
   "source": []
  },
  {
   "cell_type": "code",
   "execution_count": null,
   "id": "7d7d8db8-7f0d-44a5-baf0-d91b6e349d68",
   "metadata": {},
   "outputs": [],
   "source": []
  }
 ],
 "metadata": {
  "kernelspec": {
   "display_name": "Python 3 (ipykernel)",
   "language": "python",
   "name": "python3"
  },
  "language_info": {
   "codemirror_mode": {
    "name": "ipython",
    "version": 3
   },
   "file_extension": ".py",
   "mimetype": "text/x-python",
   "name": "python",
   "nbconvert_exporter": "python",
   "pygments_lexer": "ipython3",
   "version": "3.11.7"
  }
 },
 "nbformat": 4,
 "nbformat_minor": 5
}
