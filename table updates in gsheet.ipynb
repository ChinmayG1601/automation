{
 "cells": [
  {
   "cell_type": "code",
   "execution_count": 18,
   "id": "2ab039c2-5105-4088-9a5f-5db9495c7a0a",
   "metadata": {},
   "outputs": [],
   "source": [
    "# pip install google-auth"
   ]
  },
  {
   "cell_type": "code",
   "execution_count": 19,
   "id": "07aba99c-1834-4003-bf6a-e1c33e905c74",
   "metadata": {},
   "outputs": [],
   "source": [
    "# pip install google-api-python-client google-auth-httplib2 google-auth-oauthlib"
   ]
  },
  {
   "cell_type": "code",
   "execution_count": 20,
   "id": "55b96336-15b3-4b9d-9e88-7ae96bb34c4e",
   "metadata": {},
   "outputs": [],
   "source": [
    "# import lib\n",
    "import pandas as pd\n",
    "import os\n",
    "import csv\n",
    "from google.auth.transport.requests import Request\n",
    "from google.oauth2.credentials import Credentials\n",
    "from google_auth_oauthlib.flow import InstalledAppFlow\n",
    "from googleapiclient.discovery import build\n",
    "from googleapiclient.errors import HttpError"
   ]
  },
  {
   "cell_type": "code",
   "execution_count": 21,
   "id": "f85d2daa-72d2-4252-ab2b-159800156967",
   "metadata": {},
   "outputs": [],
   "source": [
    "# import google\n",
    "# google.__path__.append('lib/google')"
   ]
  },
  {
   "cell_type": "markdown",
   "id": "9a751e7c-0378-422a-a8fb-23a3b3b5e706",
   "metadata": {},
   "source": []
  },
  {
   "cell_type": "code",
   "execution_count": 22,
   "id": "b7e8b221-1491-49b6-a51d-890644c1a8f6",
   "metadata": {},
   "outputs": [],
   "source": [
    "SCOPES = [\"https://www.googleapis.com/auth/spreadsheets\"]"
   ]
  },
  {
   "cell_type": "markdown",
   "id": "ca15479e-a18c-46bc-8af0-078dadebf36c",
   "metadata": {},
   "source": [
    "## google sheet Id"
   ]
  },
  {
   "cell_type": "code",
   "execution_count": 23,
   "id": "608f7eb4-a529-49f6-9f4a-c64ea5692c2a",
   "metadata": {},
   "outputs": [],
   "source": [
    "SPREADSHEET_ID = \"1b3MqYdsmsQ3AzwrtYJcJGHM1xdpknwlKCwXfDFmWXJg\""
   ]
  },
  {
   "cell_type": "markdown",
   "id": "03d6b723-d5ae-457b-acb4-fbfa71a9a903",
   "metadata": {},
   "source": [
    "## range "
   ]
  },
  {
   "cell_type": "code",
   "execution_count": 24,
   "id": "83e92afa-5e61-4fa3-b6df-7c40d2a37caf",
   "metadata": {},
   "outputs": [],
   "source": [
    "RANGE_NAME = 'Sheet1!A1'  # Define the range where want to append the data"
   ]
  },
  {
   "cell_type": "markdown",
   "id": "396f75d4-1751-440e-bc9d-05a11a7c3844",
   "metadata": {},
   "source": [
    "## login to sheet"
   ]
  },
  {
   "cell_type": "code",
   "execution_count": 25,
   "id": "7505de09-5b5b-4ec7-b5a9-7befe79717eb",
   "metadata": {},
   "outputs": [],
   "source": [
    "def login_to_gsheet():\n",
    "    creds = None\n",
    "    # Check if token.json file exists for previously saved credentials\n",
    "    if os.path.exists(\"token.json\"):\n",
    "        creds = Credentials.from_authorized_user_file(\"token.json\", SCOPES)\n",
    "    \n",
    "    # If no valid credentials, initiate login process\n",
    "    if not creds or not creds.valid:\n",
    "        if creds and creds.expired and creds.refresh_token:\n",
    "            creds.refresh(Request())\n",
    "        else:\n",
    "            flow = InstalledAppFlow.from_client_secrets_file(\"credentials.json\", SCOPES)\n",
    "            creds = flow.run_local_server(port=0)\n",
    "        # Save the credentials for the next run\n",
    "        with open(\"token.json\", \"w\") as token:\n",
    "            token.write(creds.to_json())\n",
    "    \n",
    "    return creds"
   ]
  },
  {
   "cell_type": "markdown",
   "id": "6f51d380-2ae1-4b86-abc8-62d404d79302",
   "metadata": {},
   "source": [
    "## append the data to sheet"
   ]
  },
  {
   "cell_type": "code",
   "execution_count": 26,
   "id": "7568261b-5e58-4c59-b728-4d7865fe0fd4",
   "metadata": {},
   "outputs": [],
   "source": [
    "# def append_data_to_gsheet(data, percent_data):\n",
    "#     try:\n",
    "#         # Use the login_to_gsheet function to get credentials\n",
    "#         creds = login_to_gsheet()\n",
    "        \n",
    "#         # Build the Google Sheets API service\n",
    "#         service = build('sheets', 'v4', credentials=creds)\n",
    "#         sheet = service.spreadsheets()\n",
    "#         def firstpivot(data):\n",
    "#             # Read the current sheet to determine where to start appending new data\n",
    "#             result = sheet.values().get(spreadsheetId=SPREADSHEET_ID, range=RANGE_NAME).execute()\n",
    "#             existing_data = result.get('values', [])\n",
    "    \n",
    "#             # Ensure there's existing data and get the header row\n",
    "#             if existing_data:\n",
    "#                 header_row = existing_data[0]\n",
    "#             else:\n",
    "#                 header_row = []\n",
    "    \n",
    "#             # Find the next available column (excluding \"Status\" column)\n",
    "#             next_col_idx = len(header_row)\n",
    "    \n",
    "#             # Check if \"Status\" column exists, and skip adding it again\n",
    "#             if \"Status\" in header_row:\n",
    "#                 next_col_idx = header_row.index(\"Status\") + 1  # Find where \"Status\" is in the header\n",
    "    \n",
    "#             # Ensure that new columns (dates) are added only from the second column onward\n",
    "#             new_data = []\n",
    "#             for i, row in enumerate(data[1:], start=1):  # Skip header of new data\n",
    "#                 if i < len(existing_data):\n",
    "#                     # Ensure the row has enough columns before appending data\n",
    "#                     if len(existing_data[i]) < next_col_idx:\n",
    "#                         existing_data[i].extend([None] * (next_col_idx - len(existing_data[i])))\n",
    "#                     existing_data[i][next_col_idx:] = row[1:]  # Append only date-wise values, skipping \"Status\"\n",
    "#                 else:\n",
    "#                     # For rows not existing in sheet, append new data with a placeholder for the \"Status\" column\n",
    "#                     new_data.append([row[0]] + [None] * (next_col_idx - 1) + row[:])  # Add \"Status\" and new data\n",
    "    \n",
    "#             # If there's new data to append, extend the existing data\n",
    "#             if new_data:\n",
    "#                 existing_data.extend(new_data)\n",
    "    \n",
    "#             # Prepare body for updating (starting from the second column)\n",
    "#             body = {\n",
    "#                 'values': [row[1:] for row in data]  # Skip the Status column for new data\n",
    "#             }\n",
    "    \n",
    "#             # Define the range for updating (from the next available column)\n",
    "#             update_range = f'Sheet1!A1'  # Assuming column B is the next available column\n",
    "            \n",
    "#             # Update the data to Google Sheets (appending date-wise, preserving Status column)\n",
    "#             request = sheet.values().update(\n",
    "#                 spreadsheetId=SPREADSHEET_ID,\n",
    "#                 range=update_range,  # Range adjusted for next available column\n",
    "#                 valueInputOption='RAW',\n",
    "#                 body=body\n",
    "#             ).execute()\n",
    "    \n",
    "#             print(f\"{request.get('updatedCells')} cells updated.\")\n",
    "\n",
    "\n",
    "        \n",
    "#       #raw wise percentage   \n",
    "        \n",
    "        \n",
    "        \n",
    "        \n",
    "#         def raw_percentage(percent_data):\n",
    "#             # Read the current sheet to determine where to start appending new data\n",
    "#             result = sheet.values().get(spreadsheetId=SPREADSHEET_ID, range=RANGE_NAME).execute()\n",
    "#             existing_data = result.get('values', [])\n",
    "    \n",
    "#             # Ensure there's existing data and get the header row\n",
    "#             if existing_data:\n",
    "#                 header_row = existing_data[0]\n",
    "#             else:\n",
    "#                 header_row = []\n",
    "    \n",
    "#             # Find the next available column (excluding \"Status\" column)\n",
    "#             next_col_idx = len(header_row)\n",
    "    \n",
    "#             # Check if \"Status\" column exists, and skip adding it again\n",
    "#             if \"Status\" in header_row:\n",
    "#                 next_col_idx = header_row.index(\"Status\") + 1  # Find where \"Status\" is in the header\n",
    "    \n",
    "#             # Ensure that new columns (dates) are added only from the second column onward\n",
    "#             new_data = []\n",
    "#             for i, row in enumerate(data[1:], start=1):  # Skip header of new data\n",
    "#                 if i < len(existing_data):\n",
    "#                     # Ensure the row has enough columns before appending data\n",
    "#                     if len(existing_data[i]) < next_col_idx:\n",
    "#                         existing_data[i].extend([None] * (next_col_idx - len(existing_data[i])))\n",
    "#                     existing_data[i][next_col_idx:] = row[1:]  # Append only date-wise values, skipping \"Status\"\n",
    "#                 else:\n",
    "#                     # For rows not existing in sheet, append new data with a placeholder for the \"Status\" column\n",
    "#                     new_data.append([row[0]] + [None] * (next_col_idx - 1) + row[:])  # Add \"Status\" and new data\n",
    "    \n",
    "#             # If there's new data to append, extend the existing data\n",
    "#             if new_data:\n",
    "#                 existing_data.extend(new_data)\n",
    "    \n",
    "#             # Prepare body for updating (starting from the second column)\n",
    "#             body = {\n",
    "#                 'values': [row[1:] for row in data]  # Skip the Status column for new data\n",
    "#             }\n",
    "    \n",
    "#             # Define the range for updating (from the next available column)\n",
    "#             update_range = f'Sheet1!A1'  # Assuming column A is the next available column\n",
    "            \n",
    "#             # Update the data to Google Sheets (appending date-wise, preserving Status column)\n",
    "#             request = sheet.values().update(\n",
    "#                 spreadsheetId=SPREADSHEET_ID,\n",
    "#                 range=update_range,  # Range adjusted for next available column\n",
    "#                 valueInputOption='RAW',\n",
    "#                 body=body\n",
    "#             ).execute()\n",
    "    \n",
    "#             print(f\"{request.get('updatedCells')} cells updated.\")\n",
    "#     except HttpError as error:\n",
    "#         print(f\"An error occurred: {error}\")\n"
   ]
  },
  {
   "cell_type": "markdown",
   "id": "e8137ac8-7f2b-4ff0-a277-5108ef47d57b",
   "metadata": {},
   "source": [
    "## append the data to sheet"
   ]
  },
  {
   "cell_type": "code",
   "execution_count": 27,
   "id": "7a22aafd-0eca-4142-af2c-1dd167aa449e",
   "metadata": {},
   "outputs": [],
   "source": [
    "def append_data_to_gsheet(data, percent_data, SPREADSHEET_ID, RANGE_NAME):\n",
    "    try:\n",
    "        # Use the login_to_gsheet function to get credentials\n",
    "        creds = login_to_gsheet()\n",
    "        \n",
    "        # Build the Google Sheets API service\n",
    "        service = build('sheets', 'v4', credentials=creds)\n",
    "        sheet = service.spreadsheets()\n",
    "\n",
    "        def append_pivot_to_sheet(data, start_row):\n",
    "            # Read the current sheet to determine where to start appending new data\n",
    "            result = sheet.values().get(spreadsheetId=SPREADSHEET_ID, range=RANGE_NAME).execute()\n",
    "            existing_data = result.get('values', [])\n",
    "\n",
    "            # Ensure there's existing data and get the header row\n",
    "            if existing_data:\n",
    "                header_row = existing_data[0]\n",
    "            else:\n",
    "                header_row = []\n",
    "\n",
    "            # Find the next available column (excluding \"Status\" column)\n",
    "            next_col_idx = len(header_row)\n",
    "            if \"Status\" in header_row:\n",
    "                next_col_idx = header_row.index(\"Status\") + 1\n",
    "\n",
    "            # Ensure that new columns (dates) are added only from the second column onward\n",
    "            new_data = []\n",
    "            for i, row in enumerate(data[1:], start=1):  # Skip header of new data\n",
    "                if i < len(existing_data):\n",
    "                    # Ensure the row has enough columns before appending data\n",
    "                    if len(existing_data[i]) < next_col_idx:\n",
    "                        existing_data[i].extend([None] * (next_col_idx - len(existing_data[i])))\n",
    "                    existing_data[i][next_col_idx:] = row[1:]  # Append only date-wise values, skipping \"Status\"\n",
    "                else:\n",
    "                    # For rows not existing in sheet, append new data with a placeholder for the \"Status\" column\n",
    "                    new_data.append([row[0]] + [None] * (next_col_idx - 1) + row[:])  # Add \"Status\" and new data\n",
    "\n",
    "            # If there's new data to append, extend the existing data\n",
    "            if new_data:\n",
    "                existing_data.extend(new_data)\n",
    "\n",
    "            # Prepare body for updating (starting from the second column)\n",
    "            body = {\n",
    "                'values': data  # Include the Status column for new data\n",
    "            }\n",
    "\n",
    "            # Define the range for updating (start_row is where this pivot should go)\n",
    "            update_range = f'Sheet1!A{start_row}'  # Assuming A1 is the start\n",
    "\n",
    "            # Update the data to Google Sheets (appending date-wise, preserving Status column)\n",
    "            request = sheet.values().update(\n",
    "                spreadsheetId=SPREADSHEET_ID,\n",
    "                range=update_range,\n",
    "                valueInputOption='RAW',\n",
    "                body=body\n",
    "            ).execute()\n",
    "\n",
    "            print(f\"{request.get('updatedCells')} cells updated.\")\n",
    "\n",
    "        # Append raw data pivot to the sheet at row 1\n",
    "        append_pivot_to_sheet(data, start_row=1)\n",
    "\n",
    "        # Append percentage data pivot to the sheet at row 20 (or any fixed row)\n",
    "        append_pivot_to_sheet(percent_data, start_row=20)\n",
    "\n",
    "    except HttpError as error:\n",
    "        print(f\"An error occurred: {error}\")"
   ]
  },
  {
   "cell_type": "markdown",
   "id": "ace76f6d-1829-47c9-a198-1aea9682422c",
   "metadata": {},
   "source": [
    "## logic for pivot table"
   ]
  },
  {
   "cell_type": "code",
   "execution_count": 33,
   "id": "2381aa84-8b26-4ccb-aa9a-afc2a776f5f1",
   "metadata": {},
   "outputs": [],
   "source": [
    "def create_pivot(df):\n",
    "\n",
    "    # Create a pivot table\n",
    "    pivot_table = pd.pivot_table(df,\n",
    "                             index='Status',\n",
    "                             columns='CustomerPromiseDate',\n",
    "                             values='ShipmentId',\n",
    "                             aggfunc='count',\n",
    "                             fill_value=0\n",
    "            ).sort_index(ascending=True).reset_index()\n",
    "\n",
    "    # Convert pivot table to a list of lists for Google Sheets\n",
    "    pivot_data = pivot_table.values.tolist()\n",
    "    \n",
    "    # Add header row (optional)\n",
    "    pivot_data.insert(0, list(pivot_table.columns))\n",
    "    \n",
    "    return pivot_data\n",
    "\n",
    "def raw_wise_percent(df):    \n",
    "    # Create a pivot table\n",
    "    pivot_table = pd.pivot_table(df,\n",
    "                                 index='Status',\n",
    "                                 columns='CustomerPromiseDate',\n",
    "                                 values='ShipmentId',\n",
    "                                 aggfunc='count',\n",
    "                                 fill_value=0\n",
    "                                 ).sort_index(ascending=True).reset_index()\n",
    "\n",
    "    # Calculate row-wise percentage\n",
    "    pivot_table_percentage = pivot_table.set_index('Status').div(pivot_table.set_index('Status').sum(axis=1), axis=0).reset_index()\n",
    "\n",
    "    # Convert pivot table with percentage to a list of lists for Google Sheets\n",
    "    pivot_data = pivot_table_percentage.values.tolist()\n",
    "    \n",
    "    # Add header row\n",
    "    pivot_data.insert(0, list(pivot_table_percentage.columns))\n",
    "    \n",
    "    return pivot_dataa"
   ]
  },
  {
   "cell_type": "code",
   "execution_count": null,
   "id": "ec406aa0-2567-4f83-8aa9-0b6ed94b36cb",
   "metadata": {},
   "outputs": [],
   "source": []
  },
  {
   "cell_type": "markdown",
   "id": "e50874ea-24e2-4b2e-8d76-b9478ef3b0ff",
   "metadata": {},
   "source": [
    "## main function"
   ]
  },
  {
   "cell_type": "code",
   "execution_count": 34,
   "id": "94519879-487d-4068-ad5c-712c01b0221c",
   "metadata": {},
   "outputs": [
    {
     "name": "stdout",
     "output_type": "stream",
     "text": [
      "11460 cells updated.\n",
      "11460 cells updated.\n"
     ]
    }
   ],
   "source": [
    "if __name__ == \"__main__\":\n",
    "    # Read CSV and create pivot data\n",
    "    # Read CSV into pandas DataFrame\n",
    "    df = pd.read_csv(\"data.csv\")\n",
    "    \n",
    "    pivot_data = create_pivot(df)\n",
    "    raw_wise_percent = raw_wise_percent(df)\n",
    "    \n",
    "    # Append pivot data to Google Sheets\n",
    "    append_data_to_gsheet(pivot_data,raw_wise_percent,SPREADSHEET_ID, RANGE_NAME)\n",
    "    # append_data(df)"
   ]
  },
  {
   "cell_type": "code",
   "execution_count": null,
   "id": "84347929-f7fa-40e6-8e4a-cb238871747e",
   "metadata": {},
   "outputs": [],
   "source": []
  },
  {
   "cell_type": "code",
   "execution_count": null,
   "id": "89d1492e-04f9-432d-97f8-fbc8d996a45c",
   "metadata": {},
   "outputs": [],
   "source": []
  },
  {
   "cell_type": "code",
   "execution_count": null,
   "id": "ee07dfb5-e78b-491f-ad74-ae8784be4a94",
   "metadata": {},
   "outputs": [],
   "source": []
  },
  {
   "cell_type": "code",
   "execution_count": null,
   "id": "1d023f6d-9681-4920-bde5-83b583706a90",
   "metadata": {},
   "outputs": [],
   "source": []
  },
  {
   "cell_type": "code",
   "execution_count": null,
   "id": "9e8dd12f-95fb-4861-a00c-8d767cae31e0",
   "metadata": {},
   "outputs": [],
   "source": []
  }
 ],
 "metadata": {
  "kernelspec": {
   "display_name": "Python 3 (ipykernel)",
   "language": "python",
   "name": "python3"
  },
  "language_info": {
   "codemirror_mode": {
    "name": "ipython",
    "version": 3
   },
   "file_extension": ".py",
   "mimetype": "text/x-python",
   "name": "python",
   "nbconvert_exporter": "python",
   "pygments_lexer": "ipython3",
   "version": "3.11.7"
  }
 },
 "nbformat": 4,
 "nbformat_minor": 5
}
