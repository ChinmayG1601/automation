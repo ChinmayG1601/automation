{
 "cells": [
  {
   "cell_type": "code",
   "execution_count": null,
   "id": "4b61c930-dadb-4fe0-b962-d4966d31581d",
   "metadata": {},
   "outputs": [],
   "source": [
    "# import lib\n",
    "\n",
    "import os\n",
    "import csv\n",
    "import pandas as pd\n",
    "from google.auth.transport.requests import Request\n",
    "from google.oauth2.credentials import Credentials\n",
    "from google_auth_oauthlib.flow import InstalledAppFlow\n",
    "from googleapiclient.discovery import build\n",
    "from googleapiclient.errors import HttpError"
   ]
  },
  {
   "cell_type": "code",
   "execution_count": null,
   "id": "904f0d06-ecff-4b0e-a584-d5187c3f56f4",
   "metadata": {},
   "outputs": [],
   "source": [
    "SCOPES = [\"https://www.googleapis.com/auth/spreadsheets\"]"
   ]
  },
  {
   "cell_type": "code",
   "execution_count": null,
   "id": "ab946ec6-47e2-476d-8bab-7a66b030c0a4",
   "metadata": {},
   "outputs": [],
   "source": [
    "SPREADSHEET_ID = \"1P8oONrbhDqPdj7ubLUWCmfXJd6eOexO5FzWWgOvzIlE\""
   ]
  },
  {
   "cell_type": "code",
   "execution_count": null,
   "id": "86797aae-1439-4010-bf6d-aeda1d66210a",
   "metadata": {},
   "outputs": [],
   "source": [
    "FORWARD_RANGE = 'Sheet1!Q3:T'  # Range for forward data (Q3 to T)\n",
    "REVERSE_RANGE = 'Sheet1!W3:Z'  # Range for reverse data (W3 to Z)"
   ]
  },
  {
   "cell_type": "code",
   "execution_count": null,
   "id": "105adf02-11b4-4336-8d80-ae2c2c941026",
   "metadata": {},
   "outputs": [],
   "source": [
    "def main():\n",
    "    creds = None\n",
    "    # Load existing credentials from token.json or refresh them\n",
    "    if os.path.exists(\"token.json\"):\n",
    "        creds = Credentials.from_authorized_user_file(\"token.json\", SCOPES)\n",
    "    \n",
    "    if not creds or not creds.valid:\n",
    "        if creds and creds.expired and creds.refresh_token:\n",
    "            creds.refresh(Request())\n",
    "        else:\n",
    "            flow = InstalledAppFlow.from_client_secrets_file(\n",
    "                \"credentials.json\", SCOPES)\n",
    "            creds = flow.run_local_server(port=0)\n",
    "        # Save the credentials for future runs\n",
    "        with open(\"token.json\", \"w\") as token:\n",
    "            token.write(creds.to_json())\n",
    "    \n",
    "    try:\n",
    "        service = build(\"sheets\", \"v4\", credentials=creds)\n",
    "        sheet = service.spreadsheets()\n",
    "\n",
    "        # Read data from the CSV file (two sheets: forward and reverse)\n",
    "        csv_file = 'your-file.csv'  # Replace with your actual CSV file path\n",
    "        forward_data = pd.read_csv(csv_file, sheet_name=\"forward\")\n",
    "        reverse_data = pd.read_csv(csv_file, sheet_name=\"reverse\")\n",
    "\n",
    "        # Convert the data to lists (as required by the Sheets API)\n",
    "        forward_values = forward_data.values.tolist()\n",
    "        reverse_values = reverse_data.values.tolist()\n",
    "\n",
    "        # Clear the previous data in the forward range (Q3 to T)\n",
    "        sheet.values().clear(spreadsheetId=SPREADSHEET_ID, range=FORWARD_RANGE).execute()\n",
    "\n",
    "        # Update the forward sheet data (Q3 to T)\n",
    "        sheet.values().update(\n",
    "            spreadsheetId=SPREADSHEET_ID,\n",
    "            range=FORWARD_RANGE,\n",
    "            valueInputOption='RAW',\n",
    "            body={'values': forward_values}\n",
    "        ).execute()\n",
    "\n",
    "        # Clear the previous data in the reverse range (W3 to Z)\n",
    "        sheet.values().clear(spreadsheetId=SPREADSHEET_ID, range=REVERSE_RANGE).execute()\n",
    "\n",
    "        # Update the reverse sheet data (W3 to Z)\n",
    "        sheet.values().update(\n",
    "            spreadsheetId=SPREADSHEET_ID,\n",
    "            range=REVERSE_RANGE,\n",
    "            valueInputOption='RAW',\n",
    "            body={'values': reverse_values}\n",
    "        ).execute()\n",
    "\n",
    "        print(\"Data updated successfully.\")"
   ]
  },
  {
   "cell_type": "code",
   "execution_count": null,
   "id": "480e9b58-a1a7-4d34-b96e-04e5c65e78eb",
   "metadata": {},
   "outputs": [],
   "source": [
    "if __name__ == \"__main__\":\n",
    "    main()"
   ]
  },
  {
   "cell_type": "code",
   "execution_count": null,
   "id": "599bcd1d-3c27-4746-96e0-52841d702836",
   "metadata": {},
   "outputs": [],
   "source": []
  },
  {
   "cell_type": "code",
   "execution_count": null,
   "id": "8b2c1185-b3c5-4465-ae89-d42b4e5dfcef",
   "metadata": {},
   "outputs": [],
   "source": []
  },
  {
   "cell_type": "code",
   "execution_count": null,
   "id": "387b8a53-8b10-40ab-b9ee-b9c909841e71",
   "metadata": {},
   "outputs": [],
   "source": []
  },
  {
   "cell_type": "code",
   "execution_count": null,
   "id": "6d648be2-fd9a-4a35-8e69-e4138708ca7d",
   "metadata": {},
   "outputs": [],
   "source": []
  },
  {
   "cell_type": "code",
   "execution_count": null,
   "id": "c39dc18e-e1e9-4360-9a42-e66664bb154b",
   "metadata": {},
   "outputs": [],
   "source": []
  },
  {
   "cell_type": "code",
   "execution_count": null,
   "id": "163e75ca-c86f-421e-85b0-3f8b97c4dcf1",
   "metadata": {},
   "outputs": [],
   "source": []
  },
  {
   "cell_type": "code",
   "execution_count": null,
   "id": "7b378558-9607-414d-99df-8e571f8f54c9",
   "metadata": {},
   "outputs": [],
   "source": []
  },
  {
   "cell_type": "code",
   "execution_count": null,
   "id": "3fe3f70f-d392-45ef-b63a-22b340a541e1",
   "metadata": {},
   "outputs": [],
   "source": []
  },
  {
   "cell_type": "code",
   "execution_count": null,
   "id": "75835c1e-5aa7-4267-acfd-56ee55b7ccc7",
   "metadata": {},
   "outputs": [],
   "source": []
  },
  {
   "cell_type": "code",
   "execution_count": null,
   "id": "9fdf5c94-5d41-40e6-ad7c-e94e77f34c3d",
   "metadata": {},
   "outputs": [],
   "source": []
  },
  {
   "cell_type": "code",
   "execution_count": null,
   "id": "76a4355e-6527-47df-9621-40af7c047f1c",
   "metadata": {},
   "outputs": [],
   "source": []
  },
  {
   "cell_type": "code",
   "execution_count": null,
   "id": "298ea103-315c-4523-8479-f73d5be0905e",
   "metadata": {},
   "outputs": [],
   "source": []
  },
  {
   "cell_type": "code",
   "execution_count": null,
   "id": "fc9f42aa-8516-48cc-93bf-ef62513f71f5",
   "metadata": {},
   "outputs": [],
   "source": []
  },
  {
   "cell_type": "code",
   "execution_count": null,
   "id": "c2630905-0585-4c75-a967-9d96a2700758",
   "metadata": {},
   "outputs": [],
   "source": []
  }
 ],
 "metadata": {
  "kernelspec": {
   "display_name": "Python 3 (ipykernel)",
   "language": "python",
   "name": "python3"
  },
  "language_info": {
   "codemirror_mode": {
    "name": "ipython",
    "version": 3
   },
   "file_extension": ".py",
   "mimetype": "text/x-python",
   "name": "python",
   "nbconvert_exporter": "python",
   "pygments_lexer": "ipython3",
   "version": "3.11.7"
  }
 },
 "nbformat": 4,
 "nbformat_minor": 5
}
