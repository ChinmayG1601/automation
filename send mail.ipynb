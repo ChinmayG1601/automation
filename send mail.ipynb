{
 "cells": [
  {
   "cell_type": "code",
   "execution_count": 1,
   "id": "2e9ca470-3fd7-4df0-b47d-fe9b6597769d",
   "metadata": {},
   "outputs": [],
   "source": [
    "import smtplib\n",
    "from email.mime.multipart import MIMEMultipart\n",
    "from email.mime.text import MIMEText\n",
    "from email.mime.base import MIMEBase\n",
    "from email import encoders"
   ]
  },
  {
   "cell_type": "code",
   "execution_count": null,
   "id": "5263c6ea-4517-435a-9bed-08761f539457",
   "metadata": {},
   "outputs": [],
   "source": [
    "gdef send_email(sender_email, sender_password, recipient_email, subject, body, attachment_path=None):\n",
    "    try:\n",
    "        # Set up the MIME\n",
    "        msg = MIMEMultipart()\n",
    "        msg['From'] = sender_email\n",
    "        msg['To'] = recipient_email\n",
    "        msg['Subject'] = subject\n",
    "        \n",
    "        # Attach the email body\n",
    "        msg.attach(MIMEText(body, 'plain'))\n",
    "        \n",
    "        # If there is an attachment\n",
    "        if attachment_path:\n",
    "            attachment = open(attachment_path, \"rb\")\n",
    "            \n",
    "            # Set up the attachment as MIMEBase\n",
    "            part = MIMEBase('application', 'octet-stream')\n",
    "            part.set_payload((attachment).read())\n",
    "            encoders.encode_base64(part)\n",
    "            part.add_header('Content-Disposition', f\"attachment; filename= {attachment_path}\")\n",
    "            \n",
    "            # Attach the file\n",
    "            msg.attach(part)\n",
    "        \n",
    "        # Gmail's SMTP server setup\n",
    "        server = smtplib.SMTP('smtp.gmail.com', 587)\n",
    "        server.starttls()  # Secure the connection\n",
    "        server.login(sender_email, sender_password)  # Log in to the SMTP server\n",
    "        \n",
    "        # Convert the message to a string and send it\n",
    "        server.sendmail(sender_email, recipient_email, msg.as_string())\n",
    "        server.quit()  # Terminate the SMTP session\n",
    "\n",
    "        print(\"Email sent successfully!\")\n",
    "        \n",
    "    except Exception as e:\n",
    "        print(f\"Failed to send email: {e}\")\n",
    "\n",
    "# Usage example:\n",
    "sender_email = \"your_email@gmail.com\"\n",
    "sender_password = \"your_password\"  # Or an app-specific password if 2FA is enabled\n",
    "recipient_email = \"recipient_email@gmail.com\"\n",
    "subject = \"Test Email from Python\"\n",
    "body = \"This is a test email sent from a Python script.\"\n",
    "attachment_path = None  # Replace with path to attachment if needed, e.g., \"document.pdf\"\n",
    "\n",
    "send_email(sender_email, sender_password, recipient_email, subject, body, attachment_path)\n"
   ]
  }
 ],
 "metadata": {
  "kernelspec": {
   "display_name": "Python 3 (ipykernel)",
   "language": "python",
   "name": "python3"
  },
  "language_info": {
   "codemirror_mode": {
    "name": "ipython",
    "version": 3
   },
   "file_extension": ".py",
   "mimetype": "text/x-python",
   "name": "python",
   "nbconvert_exporter": "python",
   "pygments_lexer": "ipython3",
   "version": "3.11.7"
  }
 },
 "nbformat": 4,
 "nbformat_minor": 5
}
